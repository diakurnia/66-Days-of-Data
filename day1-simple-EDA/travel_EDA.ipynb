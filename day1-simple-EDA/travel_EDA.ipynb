{
 "cells": [
  {
   "cell_type": "markdown",
   "id": "e33895d2",
   "metadata": {},
   "source": [
    "## Project Overview\n",
    "\"Travel.Com\" company wants to enable and establish a viable business model to expand the customer base. One of the ways to expand the customer base is to introduce a new offering of packages. Currently, there are 5 types of packages the company is offering - Basic, Standard, Deluxe, Super Deluxe, King. Looking at the data of the last year, we observed that 18% of the customers purchased the packages. However, the marketing cost was quite high because customers were contacted at random without looking at the available information. The company is now planning to launch a new product i.e. Wellness Tourism Package. Wellness Tourism is defined as Travel that allows the traveler to maintain, enhance or kick-start a healthy lifestyle, and support or increase one's sense of well-being.However, this time company wants to harness the available data of existing and potential customers to make the marketing expenditure more efficient.\n",
    "\n",
    "We need to analyze the customers' data and information to provide recommendations to the Policy Maker and Marketing Team and also build a model to predict the potential customer who is going to purchase the newly introduced travel package."
   ]
  },
  {
   "cell_type": "markdown",
   "id": "e0bf1d6b",
   "metadata": {},
   "source": [
    "- CustomerID : Id customer\n",
    "- ProdTaken  : whether customer Taken or not Taken the product that offer (1:Taken, 0:Not Taken)\n",
    "- Age\t     : Age of Customer\n",
    "- TypeofContact\t: How customer was contacted (Company Invited or Self Inquiry)\n",
    "- CityTier : City tier depends on the development of a city, population, facilities, and living standards. The categories are ordered i.e.\n",
    "- DurationOfPitch : Duration of the pitch by a salesperson to the customer\n",
    "- Occupation\t: Occupation of cutomer\n",
    "- Gender\t    : Whether customer Male or Female\n",
    "- NumberOfPersonVisiting : Number of Person who visiting\n",
    "- NumberOfFollowups\t: Number of \n",
    "- ProductPitched\t\n",
    "- PreferredPropertyStar\t: Preferred hotel property rating by customer (3,4,5)\n",
    "- MaritalStatus\t: Marital status of customer\n",
    "- NumberOfTrips\t: Average number of trips in a year by customer\n",
    "- Passport\t: The customer has a passport or not (0: No, 1: Yes)\n",
    "- PitchSatisfactionScore : Sales pitch satisfaction score\t\n",
    "- OwnCar : Whether the customers own a car or not (0: No, 1: Yes)\n",
    "- NumberOfChildrenVisiting\t: Total number of children with age less than 5 planning to take the trip with the customer\n",
    "- Designation : Designation of the customer in the current organization\t\n",
    "- MonthlyIncome : Gross monthly income of the customer"
   ]
  },
  {
   "cell_type": "markdown",
   "id": "6a971df8",
   "metadata": {},
   "source": [
    "#### Import Package "
   ]
  },
  {
   "cell_type": "code",
   "execution_count": 15,
   "id": "2121d7b0",
   "metadata": {},
   "outputs": [],
   "source": [
    "import pandas as pd\n",
    "import matplotlib.pyplot as plt\n",
    "import numpy as np\n",
    "import matplotlib.ticker as mtick\n",
    "import matplotlib.pyplot as plt\n",
    "import seaborn as sns"
   ]
  },
  {
   "cell_type": "markdown",
   "id": "13c73d9d",
   "metadata": {},
   "source": [
    "## Load Dataset"
   ]
  },
  {
   "cell_type": "code",
   "execution_count": 2,
   "id": "6641007a",
   "metadata": {},
   "outputs": [],
   "source": [
    "df = pd.read_csv('data/Travel.csv')"
   ]
  },
  {
   "cell_type": "code",
   "execution_count": 3,
   "id": "6fde8a0d",
   "metadata": {},
   "outputs": [
    {
     "data": {
      "text/html": [
       "<div>\n",
       "<style scoped>\n",
       "    .dataframe tbody tr th:only-of-type {\n",
       "        vertical-align: middle;\n",
       "    }\n",
       "\n",
       "    .dataframe tbody tr th {\n",
       "        vertical-align: top;\n",
       "    }\n",
       "\n",
       "    .dataframe thead th {\n",
       "        text-align: right;\n",
       "    }\n",
       "</style>\n",
       "<table border=\"1\" class=\"dataframe\">\n",
       "  <thead>\n",
       "    <tr style=\"text-align: right;\">\n",
       "      <th></th>\n",
       "      <th>CustomerID</th>\n",
       "      <th>ProdTaken</th>\n",
       "      <th>Age</th>\n",
       "      <th>TypeofContact</th>\n",
       "      <th>CityTier</th>\n",
       "      <th>DurationOfPitch</th>\n",
       "      <th>Occupation</th>\n",
       "      <th>Gender</th>\n",
       "      <th>NumberOfPersonVisiting</th>\n",
       "      <th>NumberOfFollowups</th>\n",
       "      <th>ProductPitched</th>\n",
       "      <th>PreferredPropertyStar</th>\n",
       "      <th>MaritalStatus</th>\n",
       "      <th>NumberOfTrips</th>\n",
       "      <th>Passport</th>\n",
       "      <th>PitchSatisfactionScore</th>\n",
       "      <th>OwnCar</th>\n",
       "      <th>NumberOfChildrenVisiting</th>\n",
       "      <th>Designation</th>\n",
       "      <th>MonthlyIncome</th>\n",
       "    </tr>\n",
       "  </thead>\n",
       "  <tbody>\n",
       "    <tr>\n",
       "      <th>0</th>\n",
       "      <td>200000</td>\n",
       "      <td>1</td>\n",
       "      <td>41.0</td>\n",
       "      <td>Self Enquiry</td>\n",
       "      <td>3</td>\n",
       "      <td>6.0</td>\n",
       "      <td>Salaried</td>\n",
       "      <td>Female</td>\n",
       "      <td>3</td>\n",
       "      <td>3.0</td>\n",
       "      <td>Deluxe</td>\n",
       "      <td>3.0</td>\n",
       "      <td>Single</td>\n",
       "      <td>1.0</td>\n",
       "      <td>1</td>\n",
       "      <td>2</td>\n",
       "      <td>1</td>\n",
       "      <td>0.0</td>\n",
       "      <td>Manager</td>\n",
       "      <td>20993.0</td>\n",
       "    </tr>\n",
       "    <tr>\n",
       "      <th>1</th>\n",
       "      <td>200001</td>\n",
       "      <td>0</td>\n",
       "      <td>49.0</td>\n",
       "      <td>Company Invited</td>\n",
       "      <td>1</td>\n",
       "      <td>14.0</td>\n",
       "      <td>Salaried</td>\n",
       "      <td>Male</td>\n",
       "      <td>3</td>\n",
       "      <td>4.0</td>\n",
       "      <td>Deluxe</td>\n",
       "      <td>4.0</td>\n",
       "      <td>Divorced</td>\n",
       "      <td>2.0</td>\n",
       "      <td>0</td>\n",
       "      <td>3</td>\n",
       "      <td>1</td>\n",
       "      <td>2.0</td>\n",
       "      <td>Manager</td>\n",
       "      <td>20130.0</td>\n",
       "    </tr>\n",
       "    <tr>\n",
       "      <th>2</th>\n",
       "      <td>200002</td>\n",
       "      <td>1</td>\n",
       "      <td>37.0</td>\n",
       "      <td>Self Enquiry</td>\n",
       "      <td>1</td>\n",
       "      <td>8.0</td>\n",
       "      <td>Free Lancer</td>\n",
       "      <td>Male</td>\n",
       "      <td>3</td>\n",
       "      <td>4.0</td>\n",
       "      <td>Basic</td>\n",
       "      <td>3.0</td>\n",
       "      <td>Single</td>\n",
       "      <td>7.0</td>\n",
       "      <td>1</td>\n",
       "      <td>3</td>\n",
       "      <td>0</td>\n",
       "      <td>0.0</td>\n",
       "      <td>Executive</td>\n",
       "      <td>17090.0</td>\n",
       "    </tr>\n",
       "    <tr>\n",
       "      <th>3</th>\n",
       "      <td>200003</td>\n",
       "      <td>0</td>\n",
       "      <td>33.0</td>\n",
       "      <td>Company Invited</td>\n",
       "      <td>1</td>\n",
       "      <td>9.0</td>\n",
       "      <td>Salaried</td>\n",
       "      <td>Female</td>\n",
       "      <td>2</td>\n",
       "      <td>3.0</td>\n",
       "      <td>Basic</td>\n",
       "      <td>3.0</td>\n",
       "      <td>Divorced</td>\n",
       "      <td>2.0</td>\n",
       "      <td>1</td>\n",
       "      <td>5</td>\n",
       "      <td>1</td>\n",
       "      <td>1.0</td>\n",
       "      <td>Executive</td>\n",
       "      <td>17909.0</td>\n",
       "    </tr>\n",
       "    <tr>\n",
       "      <th>4</th>\n",
       "      <td>200004</td>\n",
       "      <td>0</td>\n",
       "      <td>NaN</td>\n",
       "      <td>Self Enquiry</td>\n",
       "      <td>1</td>\n",
       "      <td>8.0</td>\n",
       "      <td>Small Business</td>\n",
       "      <td>Male</td>\n",
       "      <td>2</td>\n",
       "      <td>3.0</td>\n",
       "      <td>Basic</td>\n",
       "      <td>4.0</td>\n",
       "      <td>Divorced</td>\n",
       "      <td>1.0</td>\n",
       "      <td>0</td>\n",
       "      <td>5</td>\n",
       "      <td>1</td>\n",
       "      <td>0.0</td>\n",
       "      <td>Executive</td>\n",
       "      <td>18468.0</td>\n",
       "    </tr>\n",
       "  </tbody>\n",
       "</table>\n",
       "</div>"
      ],
      "text/plain": [
       "   CustomerID  ProdTaken   Age    TypeofContact  CityTier  DurationOfPitch  \\\n",
       "0      200000          1  41.0     Self Enquiry         3              6.0   \n",
       "1      200001          0  49.0  Company Invited         1             14.0   \n",
       "2      200002          1  37.0     Self Enquiry         1              8.0   \n",
       "3      200003          0  33.0  Company Invited         1              9.0   \n",
       "4      200004          0   NaN     Self Enquiry         1              8.0   \n",
       "\n",
       "       Occupation  Gender  NumberOfPersonVisiting  NumberOfFollowups  \\\n",
       "0        Salaried  Female                       3                3.0   \n",
       "1        Salaried    Male                       3                4.0   \n",
       "2     Free Lancer    Male                       3                4.0   \n",
       "3        Salaried  Female                       2                3.0   \n",
       "4  Small Business    Male                       2                3.0   \n",
       "\n",
       "  ProductPitched  PreferredPropertyStar MaritalStatus  NumberOfTrips  \\\n",
       "0         Deluxe                    3.0        Single            1.0   \n",
       "1         Deluxe                    4.0      Divorced            2.0   \n",
       "2          Basic                    3.0        Single            7.0   \n",
       "3          Basic                    3.0      Divorced            2.0   \n",
       "4          Basic                    4.0      Divorced            1.0   \n",
       "\n",
       "   Passport  PitchSatisfactionScore  OwnCar  NumberOfChildrenVisiting  \\\n",
       "0         1                       2       1                       0.0   \n",
       "1         0                       3       1                       2.0   \n",
       "2         1                       3       0                       0.0   \n",
       "3         1                       5       1                       1.0   \n",
       "4         0                       5       1                       0.0   \n",
       "\n",
       "  Designation  MonthlyIncome  \n",
       "0     Manager        20993.0  \n",
       "1     Manager        20130.0  \n",
       "2   Executive        17090.0  \n",
       "3   Executive        17909.0  \n",
       "4   Executive        18468.0  "
      ]
     },
     "execution_count": 3,
     "metadata": {},
     "output_type": "execute_result"
    }
   ],
   "source": [
    "df.head()"
   ]
  },
  {
   "cell_type": "markdown",
   "id": "aead1d0f",
   "metadata": {},
   "source": [
    "## EDA"
   ]
  },
  {
   "cell_type": "markdown",
   "id": "38d30abe",
   "metadata": {},
   "source": [
    "### Descriptive Statistics"
   ]
  },
  {
   "cell_type": "markdown",
   "id": "597ccdf7",
   "metadata": {},
   "source": [
    "#### Cek tipe data tiap kolom dengan `df.info()` dan cek missing value dari data dengan `df.isna()`"
   ]
  },
  {
   "cell_type": "code",
   "execution_count": 4,
   "id": "7e895929",
   "metadata": {},
   "outputs": [
    {
     "name": "stdout",
     "output_type": "stream",
     "text": [
      "<class 'pandas.core.frame.DataFrame'>\n",
      "RangeIndex: 4888 entries, 0 to 4887\n",
      "Data columns (total 20 columns):\n",
      " #   Column                    Non-Null Count  Dtype  \n",
      "---  ------                    --------------  -----  \n",
      " 0   CustomerID                4888 non-null   int64  \n",
      " 1   ProdTaken                 4888 non-null   int64  \n",
      " 2   Age                       4662 non-null   float64\n",
      " 3   TypeofContact             4863 non-null   object \n",
      " 4   CityTier                  4888 non-null   int64  \n",
      " 5   DurationOfPitch           4637 non-null   float64\n",
      " 6   Occupation                4888 non-null   object \n",
      " 7   Gender                    4888 non-null   object \n",
      " 8   NumberOfPersonVisiting    4888 non-null   int64  \n",
      " 9   NumberOfFollowups         4843 non-null   float64\n",
      " 10  ProductPitched            4888 non-null   object \n",
      " 11  PreferredPropertyStar     4862 non-null   float64\n",
      " 12  MaritalStatus             4888 non-null   object \n",
      " 13  NumberOfTrips             4748 non-null   float64\n",
      " 14  Passport                  4888 non-null   int64  \n",
      " 15  PitchSatisfactionScore    4888 non-null   int64  \n",
      " 16  OwnCar                    4888 non-null   int64  \n",
      " 17  NumberOfChildrenVisiting  4822 non-null   float64\n",
      " 18  Designation               4888 non-null   object \n",
      " 19  MonthlyIncome             4655 non-null   float64\n",
      "dtypes: float64(7), int64(7), object(6)\n",
      "memory usage: 763.9+ KB\n"
     ]
    }
   ],
   "source": [
    "df.info()"
   ]
  },
  {
   "cell_type": "code",
   "execution_count": 5,
   "id": "2dd25230",
   "metadata": {},
   "outputs": [
    {
     "data": {
      "text/plain": [
       "CustomerID                    0\n",
       "ProdTaken                     0\n",
       "Age                         226\n",
       "TypeofContact                25\n",
       "CityTier                      0\n",
       "DurationOfPitch             251\n",
       "Occupation                    0\n",
       "Gender                        0\n",
       "NumberOfPersonVisiting        0\n",
       "NumberOfFollowups            45\n",
       "ProductPitched                0\n",
       "PreferredPropertyStar        26\n",
       "MaritalStatus                 0\n",
       "NumberOfTrips               140\n",
       "Passport                      0\n",
       "PitchSatisfactionScore        0\n",
       "OwnCar                        0\n",
       "NumberOfChildrenVisiting     66\n",
       "Designation                   0\n",
       "MonthlyIncome               233\n",
       "dtype: int64"
      ]
     },
     "execution_count": 5,
     "metadata": {},
     "output_type": "execute_result"
    }
   ],
   "source": [
    "df.isna().sum()"
   ]
  },
  {
   "cell_type": "markdown",
   "id": "d08511c0",
   "metadata": {},
   "source": [
    "#### Statistical summary dengan `df.describe()`"
   ]
  },
  {
   "cell_type": "markdown",
   "id": "efaaf449",
   "metadata": {},
   "source": [
    "Splitting Data menjadi Numeric dan Categorical berdasarkan tipe datanya untuk memudahkan analisis"
   ]
  },
  {
   "cell_type": "code",
   "execution_count": 6,
   "id": "8dbc8308",
   "metadata": {},
   "outputs": [],
   "source": [
    "cats = ['TypeofContact','Occupation','Gender','ProductPitched','MaritalStatus','Designation']\n",
    "nums = ['ProdTaken','Age','MonthlyIncome','NumberOfChildrenVisiting', 'CityTier', 'PreferredPropertyStar','Passport','DurationOfPitch','NumberOfFollowups','NumberOfTrips','NumberOfPersonVisiting','PitchSatisfactionScore','OwnCar']"
   ]
  },
  {
   "cell_type": "code",
   "execution_count": 7,
   "id": "e8a08f44",
   "metadata": {},
   "outputs": [
    {
     "data": {
      "text/html": [
       "<div>\n",
       "<style scoped>\n",
       "    .dataframe tbody tr th:only-of-type {\n",
       "        vertical-align: middle;\n",
       "    }\n",
       "\n",
       "    .dataframe tbody tr th {\n",
       "        vertical-align: top;\n",
       "    }\n",
       "\n",
       "    .dataframe thead th {\n",
       "        text-align: right;\n",
       "    }\n",
       "</style>\n",
       "<table border=\"1\" class=\"dataframe\">\n",
       "  <thead>\n",
       "    <tr style=\"text-align: right;\">\n",
       "      <th></th>\n",
       "      <th>ProdTaken</th>\n",
       "      <th>Age</th>\n",
       "      <th>MonthlyIncome</th>\n",
       "      <th>NumberOfChildrenVisiting</th>\n",
       "      <th>CityTier</th>\n",
       "      <th>PreferredPropertyStar</th>\n",
       "      <th>Passport</th>\n",
       "      <th>DurationOfPitch</th>\n",
       "      <th>NumberOfFollowups</th>\n",
       "      <th>NumberOfTrips</th>\n",
       "      <th>NumberOfPersonVisiting</th>\n",
       "      <th>PitchSatisfactionScore</th>\n",
       "      <th>OwnCar</th>\n",
       "    </tr>\n",
       "  </thead>\n",
       "  <tbody>\n",
       "    <tr>\n",
       "      <th>count</th>\n",
       "      <td>4888.000000</td>\n",
       "      <td>4662.000000</td>\n",
       "      <td>4655.000000</td>\n",
       "      <td>4822.000000</td>\n",
       "      <td>4888.000000</td>\n",
       "      <td>4862.000000</td>\n",
       "      <td>4888.000000</td>\n",
       "      <td>4637.000000</td>\n",
       "      <td>4843.000000</td>\n",
       "      <td>4748.000000</td>\n",
       "      <td>4888.000000</td>\n",
       "      <td>4888.000000</td>\n",
       "      <td>4888.000000</td>\n",
       "    </tr>\n",
       "    <tr>\n",
       "      <th>mean</th>\n",
       "      <td>0.188216</td>\n",
       "      <td>37.622265</td>\n",
       "      <td>23619.853491</td>\n",
       "      <td>1.187267</td>\n",
       "      <td>1.654255</td>\n",
       "      <td>3.581037</td>\n",
       "      <td>0.290917</td>\n",
       "      <td>15.490835</td>\n",
       "      <td>3.708445</td>\n",
       "      <td>3.236521</td>\n",
       "      <td>2.905074</td>\n",
       "      <td>3.078151</td>\n",
       "      <td>0.620295</td>\n",
       "    </tr>\n",
       "    <tr>\n",
       "      <th>std</th>\n",
       "      <td>0.390925</td>\n",
       "      <td>9.316387</td>\n",
       "      <td>5380.698361</td>\n",
       "      <td>0.857861</td>\n",
       "      <td>0.916583</td>\n",
       "      <td>0.798009</td>\n",
       "      <td>0.454232</td>\n",
       "      <td>8.519643</td>\n",
       "      <td>1.002509</td>\n",
       "      <td>1.849019</td>\n",
       "      <td>0.724891</td>\n",
       "      <td>1.365792</td>\n",
       "      <td>0.485363</td>\n",
       "    </tr>\n",
       "    <tr>\n",
       "      <th>min</th>\n",
       "      <td>0.000000</td>\n",
       "      <td>18.000000</td>\n",
       "      <td>1000.000000</td>\n",
       "      <td>0.000000</td>\n",
       "      <td>1.000000</td>\n",
       "      <td>3.000000</td>\n",
       "      <td>0.000000</td>\n",
       "      <td>5.000000</td>\n",
       "      <td>1.000000</td>\n",
       "      <td>1.000000</td>\n",
       "      <td>1.000000</td>\n",
       "      <td>1.000000</td>\n",
       "      <td>0.000000</td>\n",
       "    </tr>\n",
       "    <tr>\n",
       "      <th>25%</th>\n",
       "      <td>0.000000</td>\n",
       "      <td>31.000000</td>\n",
       "      <td>20346.000000</td>\n",
       "      <td>1.000000</td>\n",
       "      <td>1.000000</td>\n",
       "      <td>3.000000</td>\n",
       "      <td>0.000000</td>\n",
       "      <td>9.000000</td>\n",
       "      <td>3.000000</td>\n",
       "      <td>2.000000</td>\n",
       "      <td>2.000000</td>\n",
       "      <td>2.000000</td>\n",
       "      <td>0.000000</td>\n",
       "    </tr>\n",
       "    <tr>\n",
       "      <th>50%</th>\n",
       "      <td>0.000000</td>\n",
       "      <td>36.000000</td>\n",
       "      <td>22347.000000</td>\n",
       "      <td>1.000000</td>\n",
       "      <td>1.000000</td>\n",
       "      <td>3.000000</td>\n",
       "      <td>0.000000</td>\n",
       "      <td>13.000000</td>\n",
       "      <td>4.000000</td>\n",
       "      <td>3.000000</td>\n",
       "      <td>3.000000</td>\n",
       "      <td>3.000000</td>\n",
       "      <td>1.000000</td>\n",
       "    </tr>\n",
       "    <tr>\n",
       "      <th>75%</th>\n",
       "      <td>0.000000</td>\n",
       "      <td>44.000000</td>\n",
       "      <td>25571.000000</td>\n",
       "      <td>2.000000</td>\n",
       "      <td>3.000000</td>\n",
       "      <td>4.000000</td>\n",
       "      <td>1.000000</td>\n",
       "      <td>20.000000</td>\n",
       "      <td>4.000000</td>\n",
       "      <td>4.000000</td>\n",
       "      <td>3.000000</td>\n",
       "      <td>4.000000</td>\n",
       "      <td>1.000000</td>\n",
       "    </tr>\n",
       "    <tr>\n",
       "      <th>max</th>\n",
       "      <td>1.000000</td>\n",
       "      <td>61.000000</td>\n",
       "      <td>98678.000000</td>\n",
       "      <td>3.000000</td>\n",
       "      <td>3.000000</td>\n",
       "      <td>5.000000</td>\n",
       "      <td>1.000000</td>\n",
       "      <td>127.000000</td>\n",
       "      <td>6.000000</td>\n",
       "      <td>22.000000</td>\n",
       "      <td>5.000000</td>\n",
       "      <td>5.000000</td>\n",
       "      <td>1.000000</td>\n",
       "    </tr>\n",
       "  </tbody>\n",
       "</table>\n",
       "</div>"
      ],
      "text/plain": [
       "         ProdTaken          Age  MonthlyIncome  NumberOfChildrenVisiting  \\\n",
       "count  4888.000000  4662.000000    4655.000000               4822.000000   \n",
       "mean      0.188216    37.622265   23619.853491                  1.187267   \n",
       "std       0.390925     9.316387    5380.698361                  0.857861   \n",
       "min       0.000000    18.000000    1000.000000                  0.000000   \n",
       "25%       0.000000    31.000000   20346.000000                  1.000000   \n",
       "50%       0.000000    36.000000   22347.000000                  1.000000   \n",
       "75%       0.000000    44.000000   25571.000000                  2.000000   \n",
       "max       1.000000    61.000000   98678.000000                  3.000000   \n",
       "\n",
       "          CityTier  PreferredPropertyStar     Passport  DurationOfPitch  \\\n",
       "count  4888.000000            4862.000000  4888.000000      4637.000000   \n",
       "mean      1.654255               3.581037     0.290917        15.490835   \n",
       "std       0.916583               0.798009     0.454232         8.519643   \n",
       "min       1.000000               3.000000     0.000000         5.000000   \n",
       "25%       1.000000               3.000000     0.000000         9.000000   \n",
       "50%       1.000000               3.000000     0.000000        13.000000   \n",
       "75%       3.000000               4.000000     1.000000        20.000000   \n",
       "max       3.000000               5.000000     1.000000       127.000000   \n",
       "\n",
       "       NumberOfFollowups  NumberOfTrips  NumberOfPersonVisiting  \\\n",
       "count        4843.000000    4748.000000             4888.000000   \n",
       "mean            3.708445       3.236521                2.905074   \n",
       "std             1.002509       1.849019                0.724891   \n",
       "min             1.000000       1.000000                1.000000   \n",
       "25%             3.000000       2.000000                2.000000   \n",
       "50%             4.000000       3.000000                3.000000   \n",
       "75%             4.000000       4.000000                3.000000   \n",
       "max             6.000000      22.000000                5.000000   \n",
       "\n",
       "       PitchSatisfactionScore       OwnCar  \n",
       "count             4888.000000  4888.000000  \n",
       "mean                 3.078151     0.620295  \n",
       "std                  1.365792     0.485363  \n",
       "min                  1.000000     0.000000  \n",
       "25%                  2.000000     0.000000  \n",
       "50%                  3.000000     1.000000  \n",
       "75%                  4.000000     1.000000  \n",
       "max                  5.000000     1.000000  "
      ]
     },
     "execution_count": 7,
     "metadata": {},
     "output_type": "execute_result"
    }
   ],
   "source": [
    "df[nums].describe()"
   ]
  },
  {
   "cell_type": "markdown",
   "id": "e11384f5",
   "metadata": {},
   "source": [
    "- rata-rata usia customer `37` tahun, usia termuda `18` dan usia paling tua `61` tahun\n",
    "- rata-rata income dari customer `23619`, income terendah `1000` dan income tertinggi `98678`"
   ]
  },
  {
   "cell_type": "code",
   "execution_count": 8,
   "id": "73b0d9de",
   "metadata": {},
   "outputs": [
    {
     "data": {
      "text/html": [
       "<div>\n",
       "<style scoped>\n",
       "    .dataframe tbody tr th:only-of-type {\n",
       "        vertical-align: middle;\n",
       "    }\n",
       "\n",
       "    .dataframe tbody tr th {\n",
       "        vertical-align: top;\n",
       "    }\n",
       "\n",
       "    .dataframe thead th {\n",
       "        text-align: right;\n",
       "    }\n",
       "</style>\n",
       "<table border=\"1\" class=\"dataframe\">\n",
       "  <thead>\n",
       "    <tr style=\"text-align: right;\">\n",
       "      <th></th>\n",
       "      <th>TypeofContact</th>\n",
       "      <th>Occupation</th>\n",
       "      <th>Gender</th>\n",
       "      <th>ProductPitched</th>\n",
       "      <th>MaritalStatus</th>\n",
       "      <th>Designation</th>\n",
       "    </tr>\n",
       "  </thead>\n",
       "  <tbody>\n",
       "    <tr>\n",
       "      <th>count</th>\n",
       "      <td>4863</td>\n",
       "      <td>4888</td>\n",
       "      <td>4888</td>\n",
       "      <td>4888</td>\n",
       "      <td>4888</td>\n",
       "      <td>4888</td>\n",
       "    </tr>\n",
       "    <tr>\n",
       "      <th>unique</th>\n",
       "      <td>2</td>\n",
       "      <td>4</td>\n",
       "      <td>3</td>\n",
       "      <td>5</td>\n",
       "      <td>4</td>\n",
       "      <td>5</td>\n",
       "    </tr>\n",
       "    <tr>\n",
       "      <th>top</th>\n",
       "      <td>Self Enquiry</td>\n",
       "      <td>Salaried</td>\n",
       "      <td>Male</td>\n",
       "      <td>Basic</td>\n",
       "      <td>Married</td>\n",
       "      <td>Executive</td>\n",
       "    </tr>\n",
       "    <tr>\n",
       "      <th>freq</th>\n",
       "      <td>3444</td>\n",
       "      <td>2368</td>\n",
       "      <td>2916</td>\n",
       "      <td>1842</td>\n",
       "      <td>2340</td>\n",
       "      <td>1842</td>\n",
       "    </tr>\n",
       "  </tbody>\n",
       "</table>\n",
       "</div>"
      ],
      "text/plain": [
       "       TypeofContact Occupation Gender ProductPitched MaritalStatus  \\\n",
       "count           4863       4888   4888           4888          4888   \n",
       "unique             2          4      3              5             4   \n",
       "top     Self Enquiry   Salaried   Male          Basic       Married   \n",
       "freq            3444       2368   2916           1842          2340   \n",
       "\n",
       "       Designation  \n",
       "count         4888  \n",
       "unique           5  \n",
       "top      Executive  \n",
       "freq          1842  "
      ]
     },
     "execution_count": 8,
     "metadata": {},
     "output_type": "execute_result"
    }
   ],
   "source": [
    "df[cats].describe()"
   ]
  },
  {
   "cell_type": "markdown",
   "id": "8e475de6",
   "metadata": {},
   "source": [
    "- Kebanyakan dari customer approach ke Travel secara langsung, yaitu sebanyak `3444` dari total customer `4888`\n",
    "- Customer didominasi oleh laki-laki yaitu sebanyak `2916` customer laki-laki\n",
    "- Sebagain besar customer memiliki posisi `executive`, dan product yang dipilih customer sebagain besar adalah `Basic`, untuk selanjutnya bisa dilakukan analisis lebih lanjut"
   ]
  },
  {
   "cell_type": "markdown",
   "id": "e10750fe",
   "metadata": {},
   "source": [
    "#### Value Counting"
   ]
  },
  {
   "cell_type": "markdown",
   "id": "0e5f7f23",
   "metadata": {},
   "source": [
    "untuk mengetahui secara detail value dari data categorical, selanjutnya akan dilakukan pengecekan dengan menggunakan `value_counts()`"
   ]
  },
  {
   "cell_type": "code",
   "execution_count": 9,
   "id": "268c3aca",
   "metadata": {},
   "outputs": [],
   "source": [
    "cats.extend(['ProdTaken', 'CityTier', 'PreferredPropertyStar','Passport','NumberOfTrips','PitchSatisfactionScore','OwnCar'])"
   ]
  },
  {
   "cell_type": "code",
   "execution_count": 10,
   "id": "0c004db4",
   "metadata": {},
   "outputs": [
    {
     "name": "stdout",
     "output_type": "stream",
     "text": [
      "Value count kolom TypeofContact:\n",
      "Self Enquiry       3444\n",
      "Company Invited    1419\n",
      "Name: TypeofContact, dtype: int64\n",
      "\n",
      "Value count kolom Occupation:\n",
      "Salaried          2368\n",
      "Small Business    2084\n",
      "Large Business     434\n",
      "Free Lancer          2\n",
      "Name: Occupation, dtype: int64\n",
      "\n",
      "Value count kolom Gender:\n",
      "Male       2916\n",
      "Female     1817\n",
      "Fe Male     155\n",
      "Name: Gender, dtype: int64\n",
      "\n",
      "Value count kolom ProductPitched:\n",
      "Basic           1842\n",
      "Deluxe          1732\n",
      "Standard         742\n",
      "Super Deluxe     342\n",
      "King             230\n",
      "Name: ProductPitched, dtype: int64\n",
      "\n",
      "Value count kolom MaritalStatus:\n",
      "Married      2340\n",
      "Divorced      950\n",
      "Single        916\n",
      "Unmarried     682\n",
      "Name: MaritalStatus, dtype: int64\n",
      "\n",
      "Value count kolom Designation:\n",
      "Executive         1842\n",
      "Manager           1732\n",
      "Senior Manager     742\n",
      "AVP                342\n",
      "VP                 230\n",
      "Name: Designation, dtype: int64\n",
      "\n",
      "Value count kolom ProdTaken:\n",
      "0    3968\n",
      "1     920\n",
      "Name: ProdTaken, dtype: int64\n",
      "\n",
      "Value count kolom CityTier:\n",
      "1    3190\n",
      "3    1500\n",
      "2     198\n",
      "Name: CityTier, dtype: int64\n",
      "\n",
      "Value count kolom PreferredPropertyStar:\n",
      "3.0    2993\n",
      "5.0     956\n",
      "4.0     913\n",
      "Name: PreferredPropertyStar, dtype: int64\n",
      "\n",
      "Value count kolom Passport:\n",
      "0    3466\n",
      "1    1422\n",
      "Name: Passport, dtype: int64\n",
      "\n",
      "Value count kolom NumberOfTrips:\n",
      "2.0     1464\n",
      "3.0     1079\n",
      "1.0      620\n",
      "4.0      478\n",
      "5.0      458\n",
      "6.0      322\n",
      "7.0      218\n",
      "8.0      105\n",
      "21.0       1\n",
      "19.0       1\n",
      "22.0       1\n",
      "20.0       1\n",
      "Name: NumberOfTrips, dtype: int64\n",
      "\n",
      "Value count kolom PitchSatisfactionScore:\n",
      "3    1478\n",
      "5     970\n",
      "1     942\n",
      "4     912\n",
      "2     586\n",
      "Name: PitchSatisfactionScore, dtype: int64\n",
      "\n",
      "Value count kolom OwnCar:\n",
      "1    3032\n",
      "0    1856\n",
      "Name: OwnCar, dtype: int64\n",
      "\n"
     ]
    }
   ],
   "source": [
    "for col in cats:\n",
    "    print(f'''Value count kolom {col}:''')\n",
    "    print(df[col].value_counts())\n",
    "    print()"
   ]
  },
  {
   "cell_type": "markdown",
   "id": "14d1b03a",
   "metadata": {},
   "source": [
    "## Data Visualization"
   ]
  },
  {
   "cell_type": "code",
   "execution_count": 17,
   "id": "58a96af6",
   "metadata": {},
   "outputs": [
    {
     "data": {
      "image/png": "[encoded data removed]",
      "text/plain": [
       "<Figure size 1080x1080 with 2 Axes>"
      ]
     },
     "metadata": {
      "needs_background": "light"
     },
     "output_type": "display_data"
    }
   ],
   "source": [
    "plt.figure(figsize=(15, 15))\n",
    "sns.heatmap(df.corr(), annot=True, fmt='.2f');"
   ]
  },
  {
   "cell_type": "code",
   "execution_count": 13,
   "id": "ee30fdc7",
   "metadata": {},
   "outputs": [
    {
     "data": {
      "text/plain": [
       "Text(0.5, 1.0, '% of Product Taken')"
      ]
     },
     "execution_count": 13,
     "metadata": {},
     "output_type": "execute_result"
    },
    {
     "data": {
      "image/png": "[encoded data removed]",
      "text/plain": [
       "<Figure size 360x360 with 1 Axes>"
      ]
     },
     "metadata": {},
     "output_type": "display_data"
    }
   ],
   "source": [
    "# Check penyebaran variabel target\n",
    "ax = (df['ProdTaken'].value_counts()*100.0 /len(df)).plot.pie(autopct='%.1f%%', labels = ['Low', 'High'],figsize =(5,5), fontsize = 12 )                                                                           \n",
    "ax.yaxis.set_major_formatter(mtick.PercentFormatter())\n",
    "ax.set_ylabel('ProdTaken',fontsize = 12)\n",
    "ax.set_title('% of Product Taken', fontsize = 12)"
   ]
  },
  {
   "cell_type": "code",
   "execution_count": 18,
   "id": "a932dcc3",
   "metadata": {},
   "outputs": [],
   "source": [
    "# function to generate bar-plot with percentage\n",
    "def generate_barplot(feature, lebar = 0.2):\n",
    "  result = df.groupby([feature,'ProdTaken']).size().unstack()\n",
    "  colors = ['#4D3425','#E4512B']\n",
    "  ax = (result.T*100.0 / result.T.sum()).T.plot(kind='bar',\n",
    "                                                            width = lebar ,\n",
    "                                                            stacked = True,\n",
    "                                                            rot = 0, \n",
    "                                                            figsize = (8,6),\n",
    "                                                            color = colors)\n",
    "  ax.yaxis.set_major_formatter(mtick.PercentFormatter())\n",
    "  ax.legend(loc='center',prop={'size':14},title = 'Chance')\n",
    "  ax.set_ylabel('% Customers')\n",
    "  ax.set_title('Chance by ' + feature ,size = 14)\n",
    "\n",
    "  # Code to add the data labels on the stacked bar chart\n",
    "  for p in ax.patches:\n",
    "      width, height = p.get_width(), p.get_height()\n",
    "      x, y = p.get_xy() \n",
    "      ax.annotate('{:.0f}%'.format(height), (p.get_x()+.25*width, p.get_y()+.4*height),\n",
    "                  color = 'white',\n",
    "                weight = 'bold',size =14)"
   ]
  },
  {
   "cell_type": "code",
   "execution_count": 19,
   "id": "ae33c839",
   "metadata": {},
   "outputs": [
    {
     "data": {
      "image/png": "[encoded data removed]",
      "text/plain": [
       "<Figure size 576x432 with 1 Axes>"
      ]
     },
     "metadata": {
      "needs_background": "light"
     },
     "output_type": "display_data"
    }
   ],
   "source": [
    "generate_barplot('Designation')"
   ]
  },
  {
   "cell_type": "code",
   "execution_count": null,
   "id": "0bf62ab7",
   "metadata": {},
   "outputs": [],
   "source": [
    "generate_barplot()"
   ]
  }
 ],
 "metadata": {
  "kernelspec": {
   "display_name": "Python 3",
   "language": "python",
   "name": "python3"
  },
  "language_info": {
   "codemirror_mode": {
    "name": "ipython",
    "version": 3
   },
   "file_extension": ".py",
   "mimetype": "text/x-python",
   "name": "python",
   "nbconvert_exporter": "python",
   "pygments_lexer": "ipython3",
   "version": "3.8.8"
  }
 },
 "nbformat": 4,
 "nbformat_minor": 5
}
